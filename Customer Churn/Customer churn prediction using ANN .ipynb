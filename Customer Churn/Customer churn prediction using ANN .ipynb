{
 "cells": [
  {
   "cell_type": "markdown",
   "id": "064297fc",
   "metadata": {},
   "source": [
    "## Import Packages"
   ]
  },
  {
   "cell_type": "code",
   "execution_count": 1,
   "id": "035908dc",
   "metadata": {},
   "outputs": [],
   "source": [
    "import pandas as pd\n",
    "import numpy as np\n",
    "import matplotlib.pyplot as plt\n",
    "import seaborn as sns\n",
    "from imblearn.over_sampling import SMOTE\n",
    "from sklearn.preprocessing import MinMaxScaler\n",
    "from sklearn.preprocessing import OrdinalEncoder\n",
    "from sklearn.model_selection import train_test_split\n",
    "from sklearn.metrics import confusion_matrix, classification_report\n",
    "\n",
    "import tensorflow as tf\n",
    "from tensorflow.keras import Sequential\n",
    "from keras.layers import Dense\n",
    "\n",
    "\n",
    "import warnings\n",
    "warnings.filterwarnings(\"ignore\")"
   ]
  },
  {
   "cell_type": "markdown",
   "id": "71194445",
   "metadata": {},
   "source": [
    "## Reading Data"
   ]
  },
  {
   "cell_type": "code",
   "execution_count": 2,
   "id": "fec0c10d",
   "metadata": {},
   "outputs": [
    {
     "data": {
      "text/html": [
       "<div>\n",
       "<style scoped>\n",
       "    .dataframe tbody tr th:only-of-type {\n",
       "        vertical-align: middle;\n",
       "    }\n",
       "\n",
       "    .dataframe tbody tr th {\n",
       "        vertical-align: top;\n",
       "    }\n",
       "\n",
       "    .dataframe thead th {\n",
       "        text-align: right;\n",
       "    }\n",
       "</style>\n",
       "<table border=\"1\" class=\"dataframe\">\n",
       "  <thead>\n",
       "    <tr style=\"text-align: right;\">\n",
       "      <th></th>\n",
       "      <th>customerID</th>\n",
       "      <th>gender</th>\n",
       "      <th>SeniorCitizen</th>\n",
       "      <th>Partner</th>\n",
       "      <th>Dependents</th>\n",
       "      <th>tenure</th>\n",
       "      <th>PhoneService</th>\n",
       "      <th>MultipleLines</th>\n",
       "      <th>InternetService</th>\n",
       "      <th>OnlineSecurity</th>\n",
       "      <th>...</th>\n",
       "      <th>DeviceProtection</th>\n",
       "      <th>TechSupport</th>\n",
       "      <th>StreamingTV</th>\n",
       "      <th>StreamingMovies</th>\n",
       "      <th>Contract</th>\n",
       "      <th>PaperlessBilling</th>\n",
       "      <th>PaymentMethod</th>\n",
       "      <th>MonthlyCharges</th>\n",
       "      <th>TotalCharges</th>\n",
       "      <th>Churn</th>\n",
       "    </tr>\n",
       "  </thead>\n",
       "  <tbody>\n",
       "    <tr>\n",
       "      <th>0</th>\n",
       "      <td>7590-VHVEG</td>\n",
       "      <td>Female</td>\n",
       "      <td>0</td>\n",
       "      <td>Yes</td>\n",
       "      <td>No</td>\n",
       "      <td>1</td>\n",
       "      <td>No</td>\n",
       "      <td>No phone service</td>\n",
       "      <td>DSL</td>\n",
       "      <td>No</td>\n",
       "      <td>...</td>\n",
       "      <td>No</td>\n",
       "      <td>No</td>\n",
       "      <td>No</td>\n",
       "      <td>No</td>\n",
       "      <td>Month-to-month</td>\n",
       "      <td>Yes</td>\n",
       "      <td>Electronic check</td>\n",
       "      <td>29.85</td>\n",
       "      <td>29.85</td>\n",
       "      <td>No</td>\n",
       "    </tr>\n",
       "    <tr>\n",
       "      <th>1</th>\n",
       "      <td>5575-GNVDE</td>\n",
       "      <td>Male</td>\n",
       "      <td>0</td>\n",
       "      <td>No</td>\n",
       "      <td>No</td>\n",
       "      <td>34</td>\n",
       "      <td>Yes</td>\n",
       "      <td>No</td>\n",
       "      <td>DSL</td>\n",
       "      <td>Yes</td>\n",
       "      <td>...</td>\n",
       "      <td>Yes</td>\n",
       "      <td>No</td>\n",
       "      <td>No</td>\n",
       "      <td>No</td>\n",
       "      <td>One year</td>\n",
       "      <td>No</td>\n",
       "      <td>Mailed check</td>\n",
       "      <td>56.95</td>\n",
       "      <td>1889.5</td>\n",
       "      <td>No</td>\n",
       "    </tr>\n",
       "    <tr>\n",
       "      <th>2</th>\n",
       "      <td>3668-QPYBK</td>\n",
       "      <td>Male</td>\n",
       "      <td>0</td>\n",
       "      <td>No</td>\n",
       "      <td>No</td>\n",
       "      <td>2</td>\n",
       "      <td>Yes</td>\n",
       "      <td>No</td>\n",
       "      <td>DSL</td>\n",
       "      <td>Yes</td>\n",
       "      <td>...</td>\n",
       "      <td>No</td>\n",
       "      <td>No</td>\n",
       "      <td>No</td>\n",
       "      <td>No</td>\n",
       "      <td>Month-to-month</td>\n",
       "      <td>Yes</td>\n",
       "      <td>Mailed check</td>\n",
       "      <td>53.85</td>\n",
       "      <td>108.15</td>\n",
       "      <td>Yes</td>\n",
       "    </tr>\n",
       "    <tr>\n",
       "      <th>3</th>\n",
       "      <td>7795-CFOCW</td>\n",
       "      <td>Male</td>\n",
       "      <td>0</td>\n",
       "      <td>No</td>\n",
       "      <td>No</td>\n",
       "      <td>45</td>\n",
       "      <td>No</td>\n",
       "      <td>No phone service</td>\n",
       "      <td>DSL</td>\n",
       "      <td>Yes</td>\n",
       "      <td>...</td>\n",
       "      <td>Yes</td>\n",
       "      <td>Yes</td>\n",
       "      <td>No</td>\n",
       "      <td>No</td>\n",
       "      <td>One year</td>\n",
       "      <td>No</td>\n",
       "      <td>Bank transfer (automatic)</td>\n",
       "      <td>42.30</td>\n",
       "      <td>1840.75</td>\n",
       "      <td>No</td>\n",
       "    </tr>\n",
       "    <tr>\n",
       "      <th>4</th>\n",
       "      <td>9237-HQITU</td>\n",
       "      <td>Female</td>\n",
       "      <td>0</td>\n",
       "      <td>No</td>\n",
       "      <td>No</td>\n",
       "      <td>2</td>\n",
       "      <td>Yes</td>\n",
       "      <td>No</td>\n",
       "      <td>Fiber optic</td>\n",
       "      <td>No</td>\n",
       "      <td>...</td>\n",
       "      <td>No</td>\n",
       "      <td>No</td>\n",
       "      <td>No</td>\n",
       "      <td>No</td>\n",
       "      <td>Month-to-month</td>\n",
       "      <td>Yes</td>\n",
       "      <td>Electronic check</td>\n",
       "      <td>70.70</td>\n",
       "      <td>151.65</td>\n",
       "      <td>Yes</td>\n",
       "    </tr>\n",
       "  </tbody>\n",
       "</table>\n",
       "<p>5 rows × 21 columns</p>\n",
       "</div>"
      ],
      "text/plain": [
       "   customerID  gender  SeniorCitizen Partner Dependents  tenure PhoneService  \\\n",
       "0  7590-VHVEG  Female              0     Yes         No       1           No   \n",
       "1  5575-GNVDE    Male              0      No         No      34          Yes   \n",
       "2  3668-QPYBK    Male              0      No         No       2          Yes   \n",
       "3  7795-CFOCW    Male              0      No         No      45           No   \n",
       "4  9237-HQITU  Female              0      No         No       2          Yes   \n",
       "\n",
       "      MultipleLines InternetService OnlineSecurity  ... DeviceProtection  \\\n",
       "0  No phone service             DSL             No  ...               No   \n",
       "1                No             DSL            Yes  ...              Yes   \n",
       "2                No             DSL            Yes  ...               No   \n",
       "3  No phone service             DSL            Yes  ...              Yes   \n",
       "4                No     Fiber optic             No  ...               No   \n",
       "\n",
       "  TechSupport StreamingTV StreamingMovies        Contract PaperlessBilling  \\\n",
       "0          No          No              No  Month-to-month              Yes   \n",
       "1          No          No              No        One year               No   \n",
       "2          No          No              No  Month-to-month              Yes   \n",
       "3         Yes          No              No        One year               No   \n",
       "4          No          No              No  Month-to-month              Yes   \n",
       "\n",
       "               PaymentMethod MonthlyCharges  TotalCharges Churn  \n",
       "0           Electronic check          29.85         29.85    No  \n",
       "1               Mailed check          56.95        1889.5    No  \n",
       "2               Mailed check          53.85        108.15   Yes  \n",
       "3  Bank transfer (automatic)          42.30       1840.75    No  \n",
       "4           Electronic check          70.70        151.65   Yes  \n",
       "\n",
       "[5 rows x 21 columns]"
      ]
     },
     "execution_count": 2,
     "metadata": {},
     "output_type": "execute_result"
    }
   ],
   "source": [
    "df = pd.read_csv(\"churn.csv\")\n",
    "\n",
    "df.head()"
   ]
  },
  {
   "cell_type": "code",
   "execution_count": 3,
   "id": "f756a44c",
   "metadata": {},
   "outputs": [
    {
     "name": "stdout",
     "output_type": "stream",
     "text": [
      "<class 'pandas.core.frame.DataFrame'>\n",
      "RangeIndex: 7043 entries, 0 to 7042\n",
      "Data columns (total 21 columns):\n",
      " #   Column            Non-Null Count  Dtype  \n",
      "---  ------            --------------  -----  \n",
      " 0   customerID        7043 non-null   object \n",
      " 1   gender            7043 non-null   object \n",
      " 2   SeniorCitizen     7043 non-null   int64  \n",
      " 3   Partner           7043 non-null   object \n",
      " 4   Dependents        7043 non-null   object \n",
      " 5   tenure            7043 non-null   int64  \n",
      " 6   PhoneService      7043 non-null   object \n",
      " 7   MultipleLines     7043 non-null   object \n",
      " 8   InternetService   7043 non-null   object \n",
      " 9   OnlineSecurity    7043 non-null   object \n",
      " 10  OnlineBackup      7043 non-null   object \n",
      " 11  DeviceProtection  7043 non-null   object \n",
      " 12  TechSupport       7043 non-null   object \n",
      " 13  StreamingTV       7043 non-null   object \n",
      " 14  StreamingMovies   7043 non-null   object \n",
      " 15  Contract          7043 non-null   object \n",
      " 16  PaperlessBilling  7043 non-null   object \n",
      " 17  PaymentMethod     7043 non-null   object \n",
      " 18  MonthlyCharges    7043 non-null   float64\n",
      " 19  TotalCharges      7043 non-null   object \n",
      " 20  Churn             7043 non-null   object \n",
      "dtypes: float64(1), int64(2), object(18)\n",
      "memory usage: 1.1+ MB\n"
     ]
    }
   ],
   "source": [
    "df.info()"
   ]
  },
  {
   "cell_type": "code",
   "execution_count": 4,
   "id": "ff6cbe2c",
   "metadata": {},
   "outputs": [
    {
     "data": {
      "text/html": [
       "<div>\n",
       "<style scoped>\n",
       "    .dataframe tbody tr th:only-of-type {\n",
       "        vertical-align: middle;\n",
       "    }\n",
       "\n",
       "    .dataframe tbody tr th {\n",
       "        vertical-align: top;\n",
       "    }\n",
       "\n",
       "    .dataframe thead th {\n",
       "        text-align: right;\n",
       "    }\n",
       "</style>\n",
       "<table border=\"1\" class=\"dataframe\">\n",
       "  <thead>\n",
       "    <tr style=\"text-align: right;\">\n",
       "      <th></th>\n",
       "      <th>gender</th>\n",
       "      <th>SeniorCitizen</th>\n",
       "      <th>Partner</th>\n",
       "      <th>Dependents</th>\n",
       "      <th>tenure</th>\n",
       "      <th>PhoneService</th>\n",
       "      <th>MultipleLines</th>\n",
       "      <th>InternetService</th>\n",
       "      <th>OnlineSecurity</th>\n",
       "      <th>OnlineBackup</th>\n",
       "      <th>DeviceProtection</th>\n",
       "      <th>TechSupport</th>\n",
       "      <th>StreamingTV</th>\n",
       "      <th>StreamingMovies</th>\n",
       "      <th>Contract</th>\n",
       "      <th>PaperlessBilling</th>\n",
       "      <th>PaymentMethod</th>\n",
       "      <th>MonthlyCharges</th>\n",
       "      <th>TotalCharges</th>\n",
       "      <th>Churn</th>\n",
       "    </tr>\n",
       "  </thead>\n",
       "  <tbody>\n",
       "    <tr>\n",
       "      <th>0</th>\n",
       "      <td>Female</td>\n",
       "      <td>0</td>\n",
       "      <td>Yes</td>\n",
       "      <td>No</td>\n",
       "      <td>1</td>\n",
       "      <td>No</td>\n",
       "      <td>No phone service</td>\n",
       "      <td>DSL</td>\n",
       "      <td>No</td>\n",
       "      <td>Yes</td>\n",
       "      <td>No</td>\n",
       "      <td>No</td>\n",
       "      <td>No</td>\n",
       "      <td>No</td>\n",
       "      <td>Month-to-month</td>\n",
       "      <td>Yes</td>\n",
       "      <td>Electronic check</td>\n",
       "      <td>29.85</td>\n",
       "      <td>29.85</td>\n",
       "      <td>No</td>\n",
       "    </tr>\n",
       "    <tr>\n",
       "      <th>1</th>\n",
       "      <td>Male</td>\n",
       "      <td>0</td>\n",
       "      <td>No</td>\n",
       "      <td>No</td>\n",
       "      <td>34</td>\n",
       "      <td>Yes</td>\n",
       "      <td>No</td>\n",
       "      <td>DSL</td>\n",
       "      <td>Yes</td>\n",
       "      <td>No</td>\n",
       "      <td>Yes</td>\n",
       "      <td>No</td>\n",
       "      <td>No</td>\n",
       "      <td>No</td>\n",
       "      <td>One year</td>\n",
       "      <td>No</td>\n",
       "      <td>Mailed check</td>\n",
       "      <td>56.95</td>\n",
       "      <td>1889.5</td>\n",
       "      <td>No</td>\n",
       "    </tr>\n",
       "  </tbody>\n",
       "</table>\n",
       "</div>"
      ],
      "text/plain": [
       "   gender  SeniorCitizen Partner Dependents  tenure PhoneService  \\\n",
       "0  Female              0     Yes         No       1           No   \n",
       "1    Male              0      No         No      34          Yes   \n",
       "\n",
       "      MultipleLines InternetService OnlineSecurity OnlineBackup  \\\n",
       "0  No phone service             DSL             No          Yes   \n",
       "1                No             DSL            Yes           No   \n",
       "\n",
       "  DeviceProtection TechSupport StreamingTV StreamingMovies        Contract  \\\n",
       "0               No          No          No              No  Month-to-month   \n",
       "1              Yes          No          No              No        One year   \n",
       "\n",
       "  PaperlessBilling     PaymentMethod  MonthlyCharges TotalCharges Churn  \n",
       "0              Yes  Electronic check           29.85        29.85    No  \n",
       "1               No      Mailed check           56.95       1889.5    No  "
      ]
     },
     "execution_count": 4,
     "metadata": {},
     "output_type": "execute_result"
    }
   ],
   "source": [
    "df.drop('customerID',axis = 1,inplace = True)\n",
    "\n",
    "df.head(2)"
   ]
  },
  {
   "cell_type": "code",
   "execution_count": 5,
   "id": "1d442546",
   "metadata": {},
   "outputs": [
    {
     "data": {
      "text/plain": [
       "<matplotlib.legend.Legend at 0x2d10638f700>"
      ]
     },
     "execution_count": 5,
     "metadata": {},
     "output_type": "execute_result"
    },
    {
     "data": {
      "image/png": "[encoded data removed]",
      "text/plain": [
       "<Figure size 640x480 with 1 Axes>"
      ]
     },
     "metadata": {},
     "output_type": "display_data"
    }
   ],
   "source": [
    "# lets see the visualization for \"tenure\"[it means how loyal customer is, if their is any problem with network or other issues]\n",
    "# Lets check how many of the Loyal customer are leaving and not leaving\n",
    "\n",
    "\n",
    "churn_no = df[df['Churn']=='No']['tenure']        #customer not leaving\n",
    "churn_yes = df[df['Churn']=='Yes']['tenure']      #customer leaving\n",
    "\n",
    "\n",
    "# Plot\n",
    "plt.hist([churn_no, churn_yes], color = ['lightgreen','red'], label=['Churn = No','Churn = Yes'])\n",
    "plt.xlabel('Tenuer')\n",
    "plt.ylabel('Number of Customers')\n",
    "plt.legend()"
   ]
  },
  {
   "cell_type": "markdown",
   "id": "4037d443",
   "metadata": {},
   "source": [
    "- Customers with a tenure of 70 months or more exhibit a high retention rate.\n",
    "- The majority of customers, numbering over 1000, with a tenure of 70 months or more are not leaving the company.\n",
    "- Conversely, the number of customers leaving the company with a tenure of 70 months or more is less than 100."
   ]
  },
  {
   "cell_type": "code",
   "execution_count": 6,
   "id": "34226b6e",
   "metadata": {},
   "outputs": [
    {
     "data": {
      "text/plain": [
       "<matplotlib.legend.Legend at 0x2d10642b040>"
      ]
     },
     "execution_count": 6,
     "metadata": {},
     "output_type": "execute_result"
    },
    {
     "data": {
      "image/png": "[encoded data removed]",
      "text/plain": [
       "<Figure size 640x480 with 1 Axes>"
      ]
     },
     "metadata": {},
     "output_type": "display_data"
    }
   ],
   "source": [
    "# Lets see it with \"Monthly Charges\"\n",
    "\n",
    "mc_churn_no = df[df['Churn']=='No']['MonthlyCharges']\n",
    "mc_churn_yes = df[df['Churn']=='Yes']['MonthlyCharges']\n",
    "\n",
    "\n",
    "plt.hist([mc_churn_no, mc_churn_yes], color = ['lightgreen','red'],label = ['Churn = No','Churn = Yes'])\n",
    "plt.xlabel('Monthly Charges')\n",
    "plt.ylabel('Number of Customers')\n",
    "plt.legend()"
   ]
  },
  {
   "cell_type": "markdown",
   "id": "7b57af63",
   "metadata": {},
   "source": [
    "## Data Cleaning and Preprocessing"
   ]
  },
  {
   "cell_type": "code",
   "execution_count": 7,
   "id": "fd45da2e",
   "metadata": {},
   "outputs": [
    {
     "data": {
      "text/plain": [
       "gender               object\n",
       "SeniorCitizen         int64\n",
       "Partner              object\n",
       "Dependents           object\n",
       "tenure                int64\n",
       "PhoneService         object\n",
       "MultipleLines        object\n",
       "InternetService      object\n",
       "OnlineSecurity       object\n",
       "OnlineBackup         object\n",
       "DeviceProtection     object\n",
       "TechSupport          object\n",
       "StreamingTV          object\n",
       "StreamingMovies      object\n",
       "Contract             object\n",
       "PaperlessBilling     object\n",
       "PaymentMethod        object\n",
       "MonthlyCharges      float64\n",
       "TotalCharges         object\n",
       "Churn                object\n",
       "dtype: object"
      ]
     },
     "execution_count": 7,
     "metadata": {},
     "output_type": "execute_result"
    }
   ],
   "source": [
    "df.dtypes\n",
    "\n",
    "# You can see the \"Monthly charges\" is float, but\n",
    "# The \"Total charges is object\" "
   ]
  },
  {
   "cell_type": "code",
   "execution_count": 8,
   "id": "e16941f8",
   "metadata": {},
   "outputs": [
    {
     "data": {
      "text/plain": [
       "array(['29.85', '1889.5', '108.15', ..., '346.45', '306.6', '6844.5'],\n",
       "      dtype=object)"
      ]
     },
     "execution_count": 8,
     "metadata": {},
     "output_type": "execute_result"
    }
   ],
   "source": [
    "df['TotalCharges'].values\n",
    "\n",
    "# As you can see it's in string we need to convert it to numbers \n",
    "# Before that lets check the data"
   ]
  },
  {
   "cell_type": "code",
   "execution_count": 9,
   "id": "4c6fcdc6",
   "metadata": {},
   "outputs": [
    {
     "data": {
      "text/plain": [
       "0       False\n",
       "1       False\n",
       "2       False\n",
       "3       False\n",
       "4       False\n",
       "        ...  \n",
       "7038    False\n",
       "7039    False\n",
       "7040    False\n",
       "7041    False\n",
       "7042    False\n",
       "Name: TotalCharges, Length: 7043, dtype: bool"
      ]
     },
     "execution_count": 9,
     "metadata": {},
     "output_type": "execute_result"
    }
   ],
   "source": [
    "df['TotalCharges'].isnull()"
   ]
  },
  {
   "cell_type": "code",
   "execution_count": 10,
   "id": "58e89c42",
   "metadata": {},
   "outputs": [
    {
     "data": {
      "text/html": [
       "<div>\n",
       "<style scoped>\n",
       "    .dataframe tbody tr th:only-of-type {\n",
       "        vertical-align: middle;\n",
       "    }\n",
       "\n",
       "    .dataframe tbody tr th {\n",
       "        vertical-align: top;\n",
       "    }\n",
       "\n",
       "    .dataframe thead th {\n",
       "        text-align: right;\n",
       "    }\n",
       "</style>\n",
       "<table border=\"1\" class=\"dataframe\">\n",
       "  <thead>\n",
       "    <tr style=\"text-align: right;\">\n",
       "      <th></th>\n",
       "      <th>gender</th>\n",
       "      <th>SeniorCitizen</th>\n",
       "      <th>Partner</th>\n",
       "      <th>Dependents</th>\n",
       "      <th>tenure</th>\n",
       "      <th>PhoneService</th>\n",
       "      <th>MultipleLines</th>\n",
       "      <th>InternetService</th>\n",
       "      <th>OnlineSecurity</th>\n",
       "      <th>OnlineBackup</th>\n",
       "      <th>DeviceProtection</th>\n",
       "      <th>TechSupport</th>\n",
       "      <th>StreamingTV</th>\n",
       "      <th>StreamingMovies</th>\n",
       "      <th>Contract</th>\n",
       "      <th>PaperlessBilling</th>\n",
       "      <th>PaymentMethod</th>\n",
       "      <th>MonthlyCharges</th>\n",
       "      <th>TotalCharges</th>\n",
       "      <th>Churn</th>\n",
       "    </tr>\n",
       "  </thead>\n",
       "  <tbody>\n",
       "    <tr>\n",
       "      <th>488</th>\n",
       "      <td>Female</td>\n",
       "      <td>0</td>\n",
       "      <td>Yes</td>\n",
       "      <td>Yes</td>\n",
       "      <td>0</td>\n",
       "      <td>No</td>\n",
       "      <td>No phone service</td>\n",
       "      <td>DSL</td>\n",
       "      <td>Yes</td>\n",
       "      <td>No</td>\n",
       "      <td>Yes</td>\n",
       "      <td>Yes</td>\n",
       "      <td>Yes</td>\n",
       "      <td>No</td>\n",
       "      <td>Two year</td>\n",
       "      <td>Yes</td>\n",
       "      <td>Bank transfer (automatic)</td>\n",
       "      <td>52.55</td>\n",
       "      <td></td>\n",
       "      <td>No</td>\n",
       "    </tr>\n",
       "    <tr>\n",
       "      <th>753</th>\n",
       "      <td>Male</td>\n",
       "      <td>0</td>\n",
       "      <td>No</td>\n",
       "      <td>Yes</td>\n",
       "      <td>0</td>\n",
       "      <td>Yes</td>\n",
       "      <td>No</td>\n",
       "      <td>No</td>\n",
       "      <td>No internet service</td>\n",
       "      <td>No internet service</td>\n",
       "      <td>No internet service</td>\n",
       "      <td>No internet service</td>\n",
       "      <td>No internet service</td>\n",
       "      <td>No internet service</td>\n",
       "      <td>Two year</td>\n",
       "      <td>No</td>\n",
       "      <td>Mailed check</td>\n",
       "      <td>20.25</td>\n",
       "      <td></td>\n",
       "      <td>No</td>\n",
       "    </tr>\n",
       "    <tr>\n",
       "      <th>936</th>\n",
       "      <td>Female</td>\n",
       "      <td>0</td>\n",
       "      <td>Yes</td>\n",
       "      <td>Yes</td>\n",
       "      <td>0</td>\n",
       "      <td>Yes</td>\n",
       "      <td>No</td>\n",
       "      <td>DSL</td>\n",
       "      <td>Yes</td>\n",
       "      <td>Yes</td>\n",
       "      <td>Yes</td>\n",
       "      <td>No</td>\n",
       "      <td>Yes</td>\n",
       "      <td>Yes</td>\n",
       "      <td>Two year</td>\n",
       "      <td>No</td>\n",
       "      <td>Mailed check</td>\n",
       "      <td>80.85</td>\n",
       "      <td></td>\n",
       "      <td>No</td>\n",
       "    </tr>\n",
       "    <tr>\n",
       "      <th>1082</th>\n",
       "      <td>Male</td>\n",
       "      <td>0</td>\n",
       "      <td>Yes</td>\n",
       "      <td>Yes</td>\n",
       "      <td>0</td>\n",
       "      <td>Yes</td>\n",
       "      <td>Yes</td>\n",
       "      <td>No</td>\n",
       "      <td>No internet service</td>\n",
       "      <td>No internet service</td>\n",
       "      <td>No internet service</td>\n",
       "      <td>No internet service</td>\n",
       "      <td>No internet service</td>\n",
       "      <td>No internet service</td>\n",
       "      <td>Two year</td>\n",
       "      <td>No</td>\n",
       "      <td>Mailed check</td>\n",
       "      <td>25.75</td>\n",
       "      <td></td>\n",
       "      <td>No</td>\n",
       "    </tr>\n",
       "    <tr>\n",
       "      <th>1340</th>\n",
       "      <td>Female</td>\n",
       "      <td>0</td>\n",
       "      <td>Yes</td>\n",
       "      <td>Yes</td>\n",
       "      <td>0</td>\n",
       "      <td>No</td>\n",
       "      <td>No phone service</td>\n",
       "      <td>DSL</td>\n",
       "      <td>Yes</td>\n",
       "      <td>Yes</td>\n",
       "      <td>Yes</td>\n",
       "      <td>Yes</td>\n",
       "      <td>Yes</td>\n",
       "      <td>No</td>\n",
       "      <td>Two year</td>\n",
       "      <td>No</td>\n",
       "      <td>Credit card (automatic)</td>\n",
       "      <td>56.05</td>\n",
       "      <td></td>\n",
       "      <td>No</td>\n",
       "    </tr>\n",
       "    <tr>\n",
       "      <th>3331</th>\n",
       "      <td>Male</td>\n",
       "      <td>0</td>\n",
       "      <td>Yes</td>\n",
       "      <td>Yes</td>\n",
       "      <td>0</td>\n",
       "      <td>Yes</td>\n",
       "      <td>No</td>\n",
       "      <td>No</td>\n",
       "      <td>No internet service</td>\n",
       "      <td>No internet service</td>\n",
       "      <td>No internet service</td>\n",
       "      <td>No internet service</td>\n",
       "      <td>No internet service</td>\n",
       "      <td>No internet service</td>\n",
       "      <td>Two year</td>\n",
       "      <td>No</td>\n",
       "      <td>Mailed check</td>\n",
       "      <td>19.85</td>\n",
       "      <td></td>\n",
       "      <td>No</td>\n",
       "    </tr>\n",
       "    <tr>\n",
       "      <th>3826</th>\n",
       "      <td>Male</td>\n",
       "      <td>0</td>\n",
       "      <td>Yes</td>\n",
       "      <td>Yes</td>\n",
       "      <td>0</td>\n",
       "      <td>Yes</td>\n",
       "      <td>Yes</td>\n",
       "      <td>No</td>\n",
       "      <td>No internet service</td>\n",
       "      <td>No internet service</td>\n",
       "      <td>No internet service</td>\n",
       "      <td>No internet service</td>\n",
       "      <td>No internet service</td>\n",
       "      <td>No internet service</td>\n",
       "      <td>Two year</td>\n",
       "      <td>No</td>\n",
       "      <td>Mailed check</td>\n",
       "      <td>25.35</td>\n",
       "      <td></td>\n",
       "      <td>No</td>\n",
       "    </tr>\n",
       "    <tr>\n",
       "      <th>4380</th>\n",
       "      <td>Female</td>\n",
       "      <td>0</td>\n",
       "      <td>Yes</td>\n",
       "      <td>Yes</td>\n",
       "      <td>0</td>\n",
       "      <td>Yes</td>\n",
       "      <td>No</td>\n",
       "      <td>No</td>\n",
       "      <td>No internet service</td>\n",
       "      <td>No internet service</td>\n",
       "      <td>No internet service</td>\n",
       "      <td>No internet service</td>\n",
       "      <td>No internet service</td>\n",
       "      <td>No internet service</td>\n",
       "      <td>Two year</td>\n",
       "      <td>No</td>\n",
       "      <td>Mailed check</td>\n",
       "      <td>20.00</td>\n",
       "      <td></td>\n",
       "      <td>No</td>\n",
       "    </tr>\n",
       "    <tr>\n",
       "      <th>5218</th>\n",
       "      <td>Male</td>\n",
       "      <td>0</td>\n",
       "      <td>Yes</td>\n",
       "      <td>Yes</td>\n",
       "      <td>0</td>\n",
       "      <td>Yes</td>\n",
       "      <td>No</td>\n",
       "      <td>No</td>\n",
       "      <td>No internet service</td>\n",
       "      <td>No internet service</td>\n",
       "      <td>No internet service</td>\n",
       "      <td>No internet service</td>\n",
       "      <td>No internet service</td>\n",
       "      <td>No internet service</td>\n",
       "      <td>One year</td>\n",
       "      <td>Yes</td>\n",
       "      <td>Mailed check</td>\n",
       "      <td>19.70</td>\n",
       "      <td></td>\n",
       "      <td>No</td>\n",
       "    </tr>\n",
       "    <tr>\n",
       "      <th>6670</th>\n",
       "      <td>Female</td>\n",
       "      <td>0</td>\n",
       "      <td>Yes</td>\n",
       "      <td>Yes</td>\n",
       "      <td>0</td>\n",
       "      <td>Yes</td>\n",
       "      <td>Yes</td>\n",
       "      <td>DSL</td>\n",
       "      <td>No</td>\n",
       "      <td>Yes</td>\n",
       "      <td>Yes</td>\n",
       "      <td>Yes</td>\n",
       "      <td>Yes</td>\n",
       "      <td>No</td>\n",
       "      <td>Two year</td>\n",
       "      <td>No</td>\n",
       "      <td>Mailed check</td>\n",
       "      <td>73.35</td>\n",
       "      <td></td>\n",
       "      <td>No</td>\n",
       "    </tr>\n",
       "    <tr>\n",
       "      <th>6754</th>\n",
       "      <td>Male</td>\n",
       "      <td>0</td>\n",
       "      <td>No</td>\n",
       "      <td>Yes</td>\n",
       "      <td>0</td>\n",
       "      <td>Yes</td>\n",
       "      <td>Yes</td>\n",
       "      <td>DSL</td>\n",
       "      <td>Yes</td>\n",
       "      <td>Yes</td>\n",
       "      <td>No</td>\n",
       "      <td>Yes</td>\n",
       "      <td>No</td>\n",
       "      <td>No</td>\n",
       "      <td>Two year</td>\n",
       "      <td>Yes</td>\n",
       "      <td>Bank transfer (automatic)</td>\n",
       "      <td>61.90</td>\n",
       "      <td></td>\n",
       "      <td>No</td>\n",
       "    </tr>\n",
       "  </tbody>\n",
       "</table>\n",
       "</div>"
      ],
      "text/plain": [
       "      gender  SeniorCitizen Partner Dependents  tenure PhoneService  \\\n",
       "488   Female              0     Yes        Yes       0           No   \n",
       "753     Male              0      No        Yes       0          Yes   \n",
       "936   Female              0     Yes        Yes       0          Yes   \n",
       "1082    Male              0     Yes        Yes       0          Yes   \n",
       "1340  Female              0     Yes        Yes       0           No   \n",
       "3331    Male              0     Yes        Yes       0          Yes   \n",
       "3826    Male              0     Yes        Yes       0          Yes   \n",
       "4380  Female              0     Yes        Yes       0          Yes   \n",
       "5218    Male              0     Yes        Yes       0          Yes   \n",
       "6670  Female              0     Yes        Yes       0          Yes   \n",
       "6754    Male              0      No        Yes       0          Yes   \n",
       "\n",
       "         MultipleLines InternetService       OnlineSecurity  \\\n",
       "488   No phone service             DSL                  Yes   \n",
       "753                 No              No  No internet service   \n",
       "936                 No             DSL                  Yes   \n",
       "1082               Yes              No  No internet service   \n",
       "1340  No phone service             DSL                  Yes   \n",
       "3331                No              No  No internet service   \n",
       "3826               Yes              No  No internet service   \n",
       "4380                No              No  No internet service   \n",
       "5218                No              No  No internet service   \n",
       "6670               Yes             DSL                   No   \n",
       "6754               Yes             DSL                  Yes   \n",
       "\n",
       "             OnlineBackup     DeviceProtection          TechSupport  \\\n",
       "488                    No                  Yes                  Yes   \n",
       "753   No internet service  No internet service  No internet service   \n",
       "936                   Yes                  Yes                   No   \n",
       "1082  No internet service  No internet service  No internet service   \n",
       "1340                  Yes                  Yes                  Yes   \n",
       "3331  No internet service  No internet service  No internet service   \n",
       "3826  No internet service  No internet service  No internet service   \n",
       "4380  No internet service  No internet service  No internet service   \n",
       "5218  No internet service  No internet service  No internet service   \n",
       "6670                  Yes                  Yes                  Yes   \n",
       "6754                  Yes                   No                  Yes   \n",
       "\n",
       "              StreamingTV      StreamingMovies  Contract PaperlessBilling  \\\n",
       "488                   Yes                   No  Two year              Yes   \n",
       "753   No internet service  No internet service  Two year               No   \n",
       "936                   Yes                  Yes  Two year               No   \n",
       "1082  No internet service  No internet service  Two year               No   \n",
       "1340                  Yes                   No  Two year               No   \n",
       "3331  No internet service  No internet service  Two year               No   \n",
       "3826  No internet service  No internet service  Two year               No   \n",
       "4380  No internet service  No internet service  Two year               No   \n",
       "5218  No internet service  No internet service  One year              Yes   \n",
       "6670                  Yes                   No  Two year               No   \n",
       "6754                   No                   No  Two year              Yes   \n",
       "\n",
       "                  PaymentMethod  MonthlyCharges TotalCharges Churn  \n",
       "488   Bank transfer (automatic)           52.55                 No  \n",
       "753                Mailed check           20.25                 No  \n",
       "936                Mailed check           80.85                 No  \n",
       "1082               Mailed check           25.75                 No  \n",
       "1340    Credit card (automatic)           56.05                 No  \n",
       "3331               Mailed check           19.85                 No  \n",
       "3826               Mailed check           25.35                 No  \n",
       "4380               Mailed check           20.00                 No  \n",
       "5218               Mailed check           19.70                 No  \n",
       "6670               Mailed check           73.35                 No  \n",
       "6754  Bank transfer (automatic)           61.90                 No  "
      ]
     },
     "execution_count": 10,
     "metadata": {},
     "output_type": "execute_result"
    }
   ],
   "source": [
    "# When i try to convert to  numbers i detected some space in some place which is\n",
    "\n",
    "# If 'coerce', then invalid parsing will be set as NaN. \n",
    "\n",
    "# You can see the \"Total charges\" are blank for all this rows\n",
    "\n",
    "\n",
    "df[pd.to_numeric(df['TotalCharges'], errors = 'coerce',).isnull()]"
   ]
  },
  {
   "cell_type": "code",
   "execution_count": 11,
   "id": "3b3ef57c",
   "metadata": {},
   "outputs": [
    {
     "data": {
      "text/plain": [
       "(7032, 20)"
      ]
     },
     "execution_count": 11,
     "metadata": {},
     "output_type": "execute_result"
    }
   ],
   "source": [
    "# drop the blank space row \n",
    "\n",
    "df_new = df[df['TotalCharges']!=' ']\n",
    "\n",
    "df_new.shape"
   ]
  },
  {
   "cell_type": "code",
   "execution_count": 12,
   "id": "aac1e3a9",
   "metadata": {},
   "outputs": [],
   "source": [
    "df_new['TotalCharges'] = pd.to_numeric(df_new['TotalCharges'])"
   ]
  },
  {
   "cell_type": "code",
   "execution_count": 13,
   "id": "7f24fece",
   "metadata": {},
   "outputs": [
    {
     "name": "stdout",
     "output_type": "stream",
     "text": [
      "<class 'pandas.core.series.Series'>\n",
      "Int64Index: 7032 entries, 0 to 7042\n",
      "Series name: TotalCharges\n",
      "Non-Null Count  Dtype  \n",
      "--------------  -----  \n",
      "7032 non-null   float64\n",
      "dtypes: float64(1)\n",
      "memory usage: 109.9 KB\n"
     ]
    }
   ],
   "source": [
    "df_new['TotalCharges'].info()"
   ]
  },
  {
   "cell_type": "code",
   "execution_count": 14,
   "id": "704f5112",
   "metadata": {},
   "outputs": [],
   "source": [
    "# Lets see the object columns and the unique values\n",
    "\n",
    "def print_unique_value_object_column(i):\n",
    "    for column in i:\n",
    "        if i[column].dtype=='object':\n",
    "            print(f'{column}: {i[column].unique()}')"
   ]
  },
  {
   "cell_type": "code",
   "execution_count": 15,
   "id": "e4be8b99",
   "metadata": {},
   "outputs": [
    {
     "name": "stdout",
     "output_type": "stream",
     "text": [
      "gender: ['Female' 'Male']\n",
      "Partner: ['Yes' 'No']\n",
      "Dependents: ['No' 'Yes']\n",
      "PhoneService: ['No' 'Yes']\n",
      "MultipleLines: ['No phone service' 'No' 'Yes']\n",
      "InternetService: ['DSL' 'Fiber optic' 'No']\n",
      "OnlineSecurity: ['No' 'Yes' 'No internet service']\n",
      "OnlineBackup: ['Yes' 'No' 'No internet service']\n",
      "DeviceProtection: ['No' 'Yes' 'No internet service']\n",
      "TechSupport: ['No' 'Yes' 'No internet service']\n",
      "StreamingTV: ['No' 'Yes' 'No internet service']\n",
      "StreamingMovies: ['No' 'Yes' 'No internet service']\n",
      "Contract: ['Month-to-month' 'One year' 'Two year']\n",
      "PaperlessBilling: ['Yes' 'No']\n",
      "PaymentMethod: ['Electronic check' 'Mailed check' 'Bank transfer (automatic)'\n",
      " 'Credit card (automatic)']\n",
      "Churn: ['No' 'Yes']\n"
     ]
    }
   ],
   "source": [
    "print_unique_value_object_column(df_new)"
   ]
  },
  {
   "cell_type": "code",
   "execution_count": 16,
   "id": "29b80f86",
   "metadata": {},
   "outputs": [],
   "source": [
    "# You can see \"no internet service\" which is like same as \"no\". also for \"no phone service\" too \n",
    "# It will be replace as no and also we need to replace those {Yes & No} with number 0 & 1\n",
    "\n",
    "df_new.replace('No internet service', 'No', inplace = True)\n",
    "df_new.replace('No phone service', 'No', inplace = True)"
   ]
  },
  {
   "cell_type": "code",
   "execution_count": 17,
   "id": "f5e83afa",
   "metadata": {},
   "outputs": [
    {
     "data": {
      "text/plain": [
       "Index(['gender', 'Partner', 'Dependents', 'PhoneService', 'MultipleLines',\n",
       "       'InternetService', 'OnlineSecurity', 'OnlineBackup', 'DeviceProtection',\n",
       "       'TechSupport', 'StreamingTV', 'StreamingMovies', 'Contract',\n",
       "       'PaperlessBilling', 'PaymentMethod', 'Churn'],\n",
       "      dtype='object')"
      ]
     },
     "execution_count": 17,
     "metadata": {},
     "output_type": "execute_result"
    }
   ],
   "source": [
    "df_new.select_dtypes('object').columns"
   ]
  },
  {
   "cell_type": "code",
   "execution_count": 18,
   "id": "6d97a320",
   "metadata": {},
   "outputs": [],
   "source": [
    "yes_no_col = ['Partner', 'Dependents', 'PhoneService', 'MultipleLines','OnlineSecurity', 'OnlineBackup', 'DeviceProtection',\n",
    "              'TechSupport', 'StreamingTV', 'StreamingMovies', 'PaperlessBilling', 'Churn']"
   ]
  },
  {
   "cell_type": "code",
   "execution_count": 19,
   "id": "84a312af",
   "metadata": {},
   "outputs": [],
   "source": [
    "for i in yes_no_col:\n",
    "    df_new[i].replace({'Yes': 1, 'No': 0}, inplace = True)"
   ]
  },
  {
   "cell_type": "code",
   "execution_count": 20,
   "id": "f7fcbb6d",
   "metadata": {},
   "outputs": [],
   "source": [
    "df_new['gender'].replace({'Female': 1, 'Male': 0}, inplace = True)"
   ]
  },
  {
   "cell_type": "code",
   "execution_count": 21,
   "id": "9db563ba",
   "metadata": {},
   "outputs": [],
   "source": [
    "def unique_value(i): \n",
    "    for column in i:\n",
    "        print(f'{column}: {i[column].unique()}')"
   ]
  },
  {
   "cell_type": "code",
   "execution_count": 22,
   "id": "9edec1f0",
   "metadata": {},
   "outputs": [
    {
     "name": "stdout",
     "output_type": "stream",
     "text": [
      "gender: [1 0]\n",
      "SeniorCitizen: [0 1]\n",
      "Partner: [1 0]\n",
      "Dependents: [0 1]\n",
      "tenure: [ 1 34  2 45  8 22 10 28 62 13 16 58 49 25 69 52 71 21 12 30 47 72 17 27\n",
      "  5 46 11 70 63 43 15 60 18 66  9  3 31 50 64 56  7 42 35 48 29 65 38 68\n",
      " 32 55 37 36 41  6  4 33 67 23 57 61 14 20 53 40 59 24 44 19 54 51 26 39]\n",
      "PhoneService: [0 1]\n",
      "MultipleLines: [0 1]\n",
      "InternetService: ['DSL' 'Fiber optic' 'No']\n",
      "OnlineSecurity: [0 1]\n",
      "OnlineBackup: [1 0]\n",
      "DeviceProtection: [0 1]\n",
      "TechSupport: [0 1]\n",
      "StreamingTV: [0 1]\n",
      "StreamingMovies: [0 1]\n",
      "Contract: ['Month-to-month' 'One year' 'Two year']\n",
      "PaperlessBilling: [1 0]\n",
      "PaymentMethod: ['Electronic check' 'Mailed check' 'Bank transfer (automatic)'\n",
      " 'Credit card (automatic)']\n",
      "MonthlyCharges: [29.85 56.95 53.85 ... 63.1  44.2  78.7 ]\n",
      "TotalCharges: [  29.85 1889.5   108.15 ...  346.45  306.6  6844.5 ]\n",
      "Churn: [0 1]\n"
     ]
    }
   ],
   "source": [
    "unique_value(df_new)\n",
    "\n",
    "# Yes and No are replaced by 1 & 0 \n",
    "# Their are some columns left"
   ]
  },
  {
   "cell_type": "markdown",
   "id": "53d58848",
   "metadata": {},
   "source": [
    "## Encoding"
   ]
  },
  {
   "cell_type": "code",
   "execution_count": 23,
   "id": "108dbfd5",
   "metadata": {},
   "outputs": [
    {
     "name": "stdout",
     "output_type": "stream",
     "text": [
      "InternetService: ['DSL' 'Fiber optic' 'No']\n",
      "Contract: ['Month-to-month' 'One year' 'Two year']\n",
      "PaymentMethod: ['Electronic check' 'Mailed check' 'Bank transfer (automatic)'\n",
      " 'Credit card (automatic)']\n"
     ]
    }
   ],
   "source": [
    "# Remaing catogarical features\n",
    "\n",
    "print_unique_value_object_column(df_new)"
   ]
  },
  {
   "cell_type": "code",
   "execution_count": 24,
   "id": "e60c89d9",
   "metadata": {},
   "outputs": [],
   "source": [
    "object_column = df_new.select_dtypes('object').columns"
   ]
  },
  {
   "cell_type": "code",
   "execution_count": 25,
   "id": "cf84e5b7",
   "metadata": {},
   "outputs": [],
   "source": [
    "\n",
    "oe = OrdinalEncoder()\n",
    "\n",
    "df_new[object_column] = oe.fit_transform(df_new[object_column])"
   ]
  },
  {
   "cell_type": "code",
   "execution_count": 26,
   "id": "226ed9f2",
   "metadata": {
    "scrolled": true
   },
   "outputs": [
    {
     "data": {
      "text/html": [
       "<div>\n",
       "<style scoped>\n",
       "    .dataframe tbody tr th:only-of-type {\n",
       "        vertical-align: middle;\n",
       "    }\n",
       "\n",
       "    .dataframe tbody tr th {\n",
       "        vertical-align: top;\n",
       "    }\n",
       "\n",
       "    .dataframe thead th {\n",
       "        text-align: right;\n",
       "    }\n",
       "</style>\n",
       "<table border=\"1\" class=\"dataframe\">\n",
       "  <thead>\n",
       "    <tr style=\"text-align: right;\">\n",
       "      <th></th>\n",
       "      <th>gender</th>\n",
       "      <th>SeniorCitizen</th>\n",
       "      <th>Partner</th>\n",
       "      <th>Dependents</th>\n",
       "      <th>tenure</th>\n",
       "      <th>PhoneService</th>\n",
       "      <th>MultipleLines</th>\n",
       "      <th>InternetService</th>\n",
       "      <th>OnlineSecurity</th>\n",
       "      <th>OnlineBackup</th>\n",
       "      <th>DeviceProtection</th>\n",
       "      <th>TechSupport</th>\n",
       "      <th>StreamingTV</th>\n",
       "      <th>StreamingMovies</th>\n",
       "      <th>Contract</th>\n",
       "      <th>PaperlessBilling</th>\n",
       "      <th>PaymentMethod</th>\n",
       "      <th>MonthlyCharges</th>\n",
       "      <th>TotalCharges</th>\n",
       "      <th>Churn</th>\n",
       "    </tr>\n",
       "  </thead>\n",
       "  <tbody>\n",
       "    <tr>\n",
       "      <th>0</th>\n",
       "      <td>1</td>\n",
       "      <td>0</td>\n",
       "      <td>1</td>\n",
       "      <td>0</td>\n",
       "      <td>1</td>\n",
       "      <td>0</td>\n",
       "      <td>0</td>\n",
       "      <td>0.0</td>\n",
       "      <td>0</td>\n",
       "      <td>1</td>\n",
       "      <td>0</td>\n",
       "      <td>0</td>\n",
       "      <td>0</td>\n",
       "      <td>0</td>\n",
       "      <td>0.0</td>\n",
       "      <td>1</td>\n",
       "      <td>2.0</td>\n",
       "      <td>29.85</td>\n",
       "      <td>29.85</td>\n",
       "      <td>0</td>\n",
       "    </tr>\n",
       "    <tr>\n",
       "      <th>1</th>\n",
       "      <td>0</td>\n",
       "      <td>0</td>\n",
       "      <td>0</td>\n",
       "      <td>0</td>\n",
       "      <td>34</td>\n",
       "      <td>1</td>\n",
       "      <td>0</td>\n",
       "      <td>0.0</td>\n",
       "      <td>1</td>\n",
       "      <td>0</td>\n",
       "      <td>1</td>\n",
       "      <td>0</td>\n",
       "      <td>0</td>\n",
       "      <td>0</td>\n",
       "      <td>1.0</td>\n",
       "      <td>0</td>\n",
       "      <td>3.0</td>\n",
       "      <td>56.95</td>\n",
       "      <td>1889.50</td>\n",
       "      <td>0</td>\n",
       "    </tr>\n",
       "    <tr>\n",
       "      <th>2</th>\n",
       "      <td>0</td>\n",
       "      <td>0</td>\n",
       "      <td>0</td>\n",
       "      <td>0</td>\n",
       "      <td>2</td>\n",
       "      <td>1</td>\n",
       "      <td>0</td>\n",
       "      <td>0.0</td>\n",
       "      <td>1</td>\n",
       "      <td>1</td>\n",
       "      <td>0</td>\n",
       "      <td>0</td>\n",
       "      <td>0</td>\n",
       "      <td>0</td>\n",
       "      <td>0.0</td>\n",
       "      <td>1</td>\n",
       "      <td>3.0</td>\n",
       "      <td>53.85</td>\n",
       "      <td>108.15</td>\n",
       "      <td>1</td>\n",
       "    </tr>\n",
       "    <tr>\n",
       "      <th>3</th>\n",
       "      <td>0</td>\n",
       "      <td>0</td>\n",
       "      <td>0</td>\n",
       "      <td>0</td>\n",
       "      <td>45</td>\n",
       "      <td>0</td>\n",
       "      <td>0</td>\n",
       "      <td>0.0</td>\n",
       "      <td>1</td>\n",
       "      <td>0</td>\n",
       "      <td>1</td>\n",
       "      <td>1</td>\n",
       "      <td>0</td>\n",
       "      <td>0</td>\n",
       "      <td>1.0</td>\n",
       "      <td>0</td>\n",
       "      <td>0.0</td>\n",
       "      <td>42.30</td>\n",
       "      <td>1840.75</td>\n",
       "      <td>0</td>\n",
       "    </tr>\n",
       "    <tr>\n",
       "      <th>4</th>\n",
       "      <td>1</td>\n",
       "      <td>0</td>\n",
       "      <td>0</td>\n",
       "      <td>0</td>\n",
       "      <td>2</td>\n",
       "      <td>1</td>\n",
       "      <td>0</td>\n",
       "      <td>1.0</td>\n",
       "      <td>0</td>\n",
       "      <td>0</td>\n",
       "      <td>0</td>\n",
       "      <td>0</td>\n",
       "      <td>0</td>\n",
       "      <td>0</td>\n",
       "      <td>0.0</td>\n",
       "      <td>1</td>\n",
       "      <td>2.0</td>\n",
       "      <td>70.70</td>\n",
       "      <td>151.65</td>\n",
       "      <td>1</td>\n",
       "    </tr>\n",
       "  </tbody>\n",
       "</table>\n",
       "</div>"
      ],
      "text/plain": [
       "   gender  SeniorCitizen  Partner  Dependents  tenure  PhoneService  \\\n",
       "0       1              0        1           0       1             0   \n",
       "1       0              0        0           0      34             1   \n",
       "2       0              0        0           0       2             1   \n",
       "3       0              0        0           0      45             0   \n",
       "4       1              0        0           0       2             1   \n",
       "\n",
       "   MultipleLines  InternetService  OnlineSecurity  OnlineBackup  \\\n",
       "0              0              0.0               0             1   \n",
       "1              0              0.0               1             0   \n",
       "2              0              0.0               1             1   \n",
       "3              0              0.0               1             0   \n",
       "4              0              1.0               0             0   \n",
       "\n",
       "   DeviceProtection  TechSupport  StreamingTV  StreamingMovies  Contract  \\\n",
       "0                 0            0            0                0       0.0   \n",
       "1                 1            0            0                0       1.0   \n",
       "2                 0            0            0                0       0.0   \n",
       "3                 1            1            0                0       1.0   \n",
       "4                 0            0            0                0       0.0   \n",
       "\n",
       "   PaperlessBilling  PaymentMethod  MonthlyCharges  TotalCharges  Churn  \n",
       "0                 1            2.0           29.85         29.85      0  \n",
       "1                 0            3.0           56.95       1889.50      0  \n",
       "2                 1            3.0           53.85        108.15      1  \n",
       "3                 0            0.0           42.30       1840.75      0  \n",
       "4                 1            2.0           70.70        151.65      1  "
      ]
     },
     "execution_count": 26,
     "metadata": {},
     "output_type": "execute_result"
    }
   ],
   "source": [
    "df_new.head()"
   ]
  },
  {
   "cell_type": "code",
   "execution_count": 27,
   "id": "a291d45e",
   "metadata": {},
   "outputs": [],
   "source": [
    "columns_to_scale = ['tenure', 'InternetService', 'Contract', 'PaymentMethod', 'MonthlyCharges', 'TotalCharges']\n",
    "\n",
    "# We need to scale it befor that we should know what columns we need to scale "
   ]
  },
  {
   "cell_type": "code",
   "execution_count": 28,
   "id": "16d6e675",
   "metadata": {},
   "outputs": [
    {
     "name": "stdout",
     "output_type": "stream",
     "text": [
      "tenure: [ 1 34  2 45  8 22 10 28 62 13 16 58 49 25 69 52 71 21 12 30 47 72 17 27\n",
      "  5 46 11 70 63 43 15 60 18 66  9  3 31 50 64 56  7 42 35 48 29 65 38 68\n",
      " 32 55 37 36 41  6  4 33 67 23 57 61 14 20 53 40 59 24 44 19 54 51 26 39]\n",
      "InternetService: [0. 1. 2.]\n",
      "Contract: [0. 1. 2.]\n",
      "PaymentMethod: [2. 3. 0. 1.]\n",
      "MonthlyCharges: [29.85 56.95 53.85 ... 63.1  44.2  78.7 ]\n",
      "TotalCharges: [  29.85 1889.5   108.15 ...  346.45  306.6  6844.5 ]\n"
     ]
    }
   ],
   "source": [
    "unique_value(df_new[columns_to_scale])\n",
    "\n",
    "# All the data are  between 0&1 except this"
   ]
  },
  {
   "cell_type": "markdown",
   "id": "6d2ef23e",
   "metadata": {},
   "source": [
    "## Scaling"
   ]
  },
  {
   "cell_type": "code",
   "execution_count": 29,
   "id": "f916fee5",
   "metadata": {},
   "outputs": [],
   "source": [
    "# For that we can use MinMax Scaler - it will convert the value in the range between 0 & 1\n",
    "\n",
    "scale = MinMaxScaler()\n",
    "\n",
    "df_new[columns_to_scale] = scale.fit_transform(df_new[columns_to_scale])"
   ]
  },
  {
   "cell_type": "code",
   "execution_count": 30,
   "id": "aab412ba",
   "metadata": {},
   "outputs": [
    {
     "name": "stdout",
     "output_type": "stream",
     "text": [
      "tenure: [0.         0.46478873 0.01408451 0.61971831 0.09859155 0.29577465\n",
      " 0.12676056 0.38028169 0.85915493 0.16901408 0.21126761 0.8028169\n",
      " 0.67605634 0.33802817 0.95774648 0.71830986 0.98591549 0.28169014\n",
      " 0.15492958 0.4084507  0.64788732 1.         0.22535211 0.36619718\n",
      " 0.05633803 0.63380282 0.14084507 0.97183099 0.87323944 0.5915493\n",
      " 0.1971831  0.83098592 0.23943662 0.91549296 0.11267606 0.02816901\n",
      " 0.42253521 0.69014085 0.88732394 0.77464789 0.08450704 0.57746479\n",
      " 0.47887324 0.66197183 0.3943662  0.90140845 0.52112676 0.94366197\n",
      " 0.43661972 0.76056338 0.50704225 0.49295775 0.56338028 0.07042254\n",
      " 0.04225352 0.45070423 0.92957746 0.30985915 0.78873239 0.84507042\n",
      " 0.18309859 0.26760563 0.73239437 0.54929577 0.81690141 0.32394366\n",
      " 0.6056338  0.25352113 0.74647887 0.70422535 0.35211268 0.53521127]\n",
      "InternetService: [0.  0.5 1. ]\n",
      "Contract: [0.  0.5 1. ]\n",
      "PaymentMethod: [0.66666667 1.         0.         0.33333333]\n",
      "MonthlyCharges: [0.11542289 0.38507463 0.35422886 ... 0.44626866 0.25820896 0.60149254]\n",
      "TotalCharges: [0.0012751  0.21586661 0.01031041 ... 0.03780868 0.03321025 0.78764136]\n"
     ]
    }
   ],
   "source": [
    "unique_value(df_new[columns_to_scale])\n",
    "\n",
    "# You can see all the values are between 0 & 1"
   ]
  },
  {
   "cell_type": "markdown",
   "id": "1182881d",
   "metadata": {},
   "source": [
    "## Split Data X & Y"
   ]
  },
  {
   "cell_type": "code",
   "execution_count": 31,
   "id": "45d97f92",
   "metadata": {},
   "outputs": [],
   "source": [
    "x = df_new.drop('Churn', axis = 1)\n",
    "y = df_new['Churn']"
   ]
  },
  {
   "cell_type": "code",
   "execution_count": 32,
   "id": "c024d84e",
   "metadata": {},
   "outputs": [
    {
     "data": {
      "text/plain": [
       "0    5163\n",
       "1    1869\n",
       "Name: Churn, dtype: int64"
      ]
     },
     "execution_count": 32,
     "metadata": {},
     "output_type": "execute_result"
    }
   ],
   "source": [
    "y.value_counts()\n",
    "\n",
    "# The datas are imbalanced "
   ]
  },
  {
   "cell_type": "code",
   "execution_count": 33,
   "id": "bcfad69d",
   "metadata": {},
   "outputs": [
    {
     "data": {
      "text/plain": [
       "0    5163\n",
       "1    5163\n",
       "Name: Churn, dtype: int64"
      ]
     },
     "execution_count": 33,
     "metadata": {},
     "output_type": "execute_result"
    }
   ],
   "source": [
    "smote = SMOTE(sampling_strategy = 'minority')\n",
    "\n",
    "X, Y = smote.fit_resample(x,y)\n",
    "\n",
    "Y.value_counts()\n",
    "\n",
    "# Now both classes have same number of samples"
   ]
  },
  {
   "cell_type": "code",
   "execution_count": 34,
   "id": "e3873ed0",
   "metadata": {},
   "outputs": [],
   "source": [
    "xtrain, xtest, ytrain, ytest = train_test_split(X, Y, test_size = 0.1, random_state = 0, stratify = Y)"
   ]
  },
  {
   "cell_type": "code",
   "execution_count": 35,
   "id": "b23e8283",
   "metadata": {},
   "outputs": [
    {
     "data": {
      "text/plain": [
       "(1    4647\n",
       " 0    4646\n",
       " Name: Churn, dtype: int64,\n",
       " 0    517\n",
       " 1    516\n",
       " Name: Churn, dtype: int64)"
      ]
     },
     "execution_count": 35,
     "metadata": {},
     "output_type": "execute_result"
    }
   ],
   "source": [
    "ytrain.value_counts(), ytest.value_counts()"
   ]
  },
  {
   "cell_type": "code",
   "execution_count": 36,
   "id": "86cd3353",
   "metadata": {},
   "outputs": [
    {
     "data": {
      "text/plain": [
       "19"
      ]
     },
     "execution_count": 36,
     "metadata": {},
     "output_type": "execute_result"
    }
   ],
   "source": [
    "len(xtrain.columns)"
   ]
  },
  {
   "cell_type": "markdown",
   "id": "6d52bd21",
   "metadata": {},
   "source": [
    "## Create model Neural Network"
   ]
  },
  {
   "cell_type": "code",
   "execution_count": 37,
   "id": "f054f7ed",
   "metadata": {
    "scrolled": true
   },
   "outputs": [
    {
     "name": "stdout",
     "output_type": "stream",
     "text": [
      "Epoch 1/100\n",
      "291/291 [==============================] - 2s 3ms/step - loss: 0.5538 - accuracy: 0.7185\n",
      "Epoch 2/100\n",
      "291/291 [==============================] - 1s 3ms/step - loss: 0.4834 - accuracy: 0.7704\n",
      "Epoch 3/100\n",
      "291/291 [==============================] - 1s 3ms/step - loss: 0.4727 - accuracy: 0.7760\n",
      "Epoch 4/100\n",
      "291/291 [==============================] - 1s 3ms/step - loss: 0.4670 - accuracy: 0.7805\n",
      "Epoch 5/100\n",
      "291/291 [==============================] - 1s 3ms/step - loss: 0.4630 - accuracy: 0.7820\n",
      "Epoch 6/100\n",
      "291/291 [==============================] - 1s 3ms/step - loss: 0.4597 - accuracy: 0.7840\n",
      "Epoch 7/100\n",
      "291/291 [==============================] - 1s 3ms/step - loss: 0.4575 - accuracy: 0.7848\n",
      "Epoch 8/100\n",
      "291/291 [==============================] - 1s 3ms/step - loss: 0.4553 - accuracy: 0.7854\n",
      "Epoch 9/100\n",
      "291/291 [==============================] - 1s 3ms/step - loss: 0.4526 - accuracy: 0.7858\n",
      "Epoch 10/100\n",
      "291/291 [==============================] - 1s 3ms/step - loss: 0.4511 - accuracy: 0.7882\n",
      "Epoch 11/100\n",
      "291/291 [==============================] - 1s 3ms/step - loss: 0.4506 - accuracy: 0.7884\n",
      "Epoch 12/100\n",
      "291/291 [==============================] - 1s 3ms/step - loss: 0.4482 - accuracy: 0.7889\n",
      "Epoch 13/100\n",
      "291/291 [==============================] - 1s 3ms/step - loss: 0.4471 - accuracy: 0.7918\n",
      "Epoch 14/100\n",
      "291/291 [==============================] - 1s 3ms/step - loss: 0.4474 - accuracy: 0.7907\n",
      "Epoch 15/100\n",
      "291/291 [==============================] - 1s 3ms/step - loss: 0.4458 - accuracy: 0.7924\n",
      "Epoch 16/100\n",
      "291/291 [==============================] - 1s 3ms/step - loss: 0.4457 - accuracy: 0.7916\n",
      "Epoch 17/100\n",
      "291/291 [==============================] - 1s 3ms/step - loss: 0.4433 - accuracy: 0.7943\n",
      "Epoch 18/100\n",
      "291/291 [==============================] - 1s 3ms/step - loss: 0.4432 - accuracy: 0.7933\n",
      "Epoch 19/100\n",
      "291/291 [==============================] - 1s 3ms/step - loss: 0.4406 - accuracy: 0.7958\n",
      "Epoch 20/100\n",
      "291/291 [==============================] - 1s 3ms/step - loss: 0.4400 - accuracy: 0.7948\n",
      "Epoch 21/100\n",
      "291/291 [==============================] - 1s 3ms/step - loss: 0.4395 - accuracy: 0.7944\n",
      "Epoch 22/100\n",
      "291/291 [==============================] - 1s 3ms/step - loss: 0.4384 - accuracy: 0.7975\n",
      "Epoch 23/100\n",
      "291/291 [==============================] - 1s 3ms/step - loss: 0.4381 - accuracy: 0.7952\n",
      "Epoch 24/100\n",
      "291/291 [==============================] - 1s 3ms/step - loss: 0.4371 - accuracy: 0.7968\n",
      "Epoch 25/100\n",
      "291/291 [==============================] - 1s 3ms/step - loss: 0.4359 - accuracy: 0.7966\n",
      "Epoch 26/100\n",
      "291/291 [==============================] - 1s 3ms/step - loss: 0.4355 - accuracy: 0.7976\n",
      "Epoch 27/100\n",
      "291/291 [==============================] - 1s 3ms/step - loss: 0.4351 - accuracy: 0.7974\n",
      "Epoch 28/100\n",
      "291/291 [==============================] - 1s 3ms/step - loss: 0.4339 - accuracy: 0.7973\n",
      "Epoch 29/100\n",
      "291/291 [==============================] - 1s 3ms/step - loss: 0.4345 - accuracy: 0.7980\n",
      "Epoch 30/100\n",
      "291/291 [==============================] - 1s 3ms/step - loss: 0.4324 - accuracy: 0.8010\n",
      "Epoch 31/100\n",
      "291/291 [==============================] - 1s 3ms/step - loss: 0.4318 - accuracy: 0.7986\n",
      "Epoch 32/100\n",
      "291/291 [==============================] - 1s 3ms/step - loss: 0.4317 - accuracy: 0.8003\n",
      "Epoch 33/100\n",
      "291/291 [==============================] - 1s 3ms/step - loss: 0.4306 - accuracy: 0.8006\n",
      "Epoch 34/100\n",
      "291/291 [==============================] - 1s 3ms/step - loss: 0.4300 - accuracy: 0.8009\n",
      "Epoch 35/100\n",
      "291/291 [==============================] - 1s 3ms/step - loss: 0.4294 - accuracy: 0.8011\n",
      "Epoch 36/100\n",
      "291/291 [==============================] - 1s 3ms/step - loss: 0.4292 - accuracy: 0.8001\n",
      "Epoch 37/100\n",
      "291/291 [==============================] - 1s 3ms/step - loss: 0.4289 - accuracy: 0.8001\n",
      "Epoch 38/100\n",
      "291/291 [==============================] - 1s 3ms/step - loss: 0.4276 - accuracy: 0.8019\n",
      "Epoch 39/100\n",
      "291/291 [==============================] - 1s 3ms/step - loss: 0.4272 - accuracy: 0.8008\n",
      "Epoch 40/100\n",
      "291/291 [==============================] - 1s 3ms/step - loss: 0.4264 - accuracy: 0.8034\n",
      "Epoch 41/100\n",
      "291/291 [==============================] - 1s 3ms/step - loss: 0.4261 - accuracy: 0.8017\n",
      "Epoch 42/100\n",
      "291/291 [==============================] - 1s 3ms/step - loss: 0.4257 - accuracy: 0.8024\n",
      "Epoch 43/100\n",
      "291/291 [==============================] - 1s 3ms/step - loss: 0.4250 - accuracy: 0.8043\n",
      "Epoch 44/100\n",
      "291/291 [==============================] - 1s 3ms/step - loss: 0.4240 - accuracy: 0.8062\n",
      "Epoch 45/100\n",
      "291/291 [==============================] - 1s 3ms/step - loss: 0.4235 - accuracy: 0.8052\n",
      "Epoch 46/100\n",
      "291/291 [==============================] - 1s 3ms/step - loss: 0.4238 - accuracy: 0.8060\n",
      "Epoch 47/100\n",
      "291/291 [==============================] - 1s 3ms/step - loss: 0.4232 - accuracy: 0.8035\n",
      "Epoch 48/100\n",
      "291/291 [==============================] - 1s 3ms/step - loss: 0.4214 - accuracy: 0.8067\n",
      "Epoch 49/100\n",
      "291/291 [==============================] - 1s 3ms/step - loss: 0.4229 - accuracy: 0.8065\n",
      "Epoch 50/100\n",
      "291/291 [==============================] - 1s 3ms/step - loss: 0.4221 - accuracy: 0.8060\n",
      "Epoch 51/100\n",
      "291/291 [==============================] - 1s 3ms/step - loss: 0.4211 - accuracy: 0.8068\n",
      "Epoch 52/100\n",
      "291/291 [==============================] - 1s 3ms/step - loss: 0.4212 - accuracy: 0.8062\n",
      "Epoch 53/100\n",
      "291/291 [==============================] - 1s 3ms/step - loss: 0.4207 - accuracy: 0.8087\n",
      "Epoch 54/100\n",
      "291/291 [==============================] - 1s 3ms/step - loss: 0.4204 - accuracy: 0.8047\n",
      "Epoch 55/100\n",
      "291/291 [==============================] - 1s 3ms/step - loss: 0.4201 - accuracy: 0.8076\n",
      "Epoch 56/100\n",
      "291/291 [==============================] - 1s 3ms/step - loss: 0.4194 - accuracy: 0.8070\n",
      "Epoch 57/100\n",
      "291/291 [==============================] - 1s 3ms/step - loss: 0.4188 - accuracy: 0.8082\n",
      "Epoch 58/100\n",
      "291/291 [==============================] - 1s 3ms/step - loss: 0.4187 - accuracy: 0.8089\n",
      "Epoch 59/100\n",
      "291/291 [==============================] - 1s 3ms/step - loss: 0.4186 - accuracy: 0.8125\n",
      "Epoch 60/100\n",
      "291/291 [==============================] - 1s 3ms/step - loss: 0.4183 - accuracy: 0.8096\n",
      "Epoch 61/100\n",
      "291/291 [==============================] - 1s 3ms/step - loss: 0.4171 - accuracy: 0.8115\n",
      "Epoch 62/100\n",
      "291/291 [==============================] - 1s 3ms/step - loss: 0.4171 - accuracy: 0.8076\n",
      "Epoch 63/100\n",
      "291/291 [==============================] - 1s 3ms/step - loss: 0.4167 - accuracy: 0.8097\n",
      "Epoch 64/100\n",
      "291/291 [==============================] - 1s 3ms/step - loss: 0.4176 - accuracy: 0.8074\n",
      "Epoch 65/100\n",
      "291/291 [==============================] - 1s 3ms/step - loss: 0.4157 - accuracy: 0.8114\n",
      "Epoch 66/100\n",
      "291/291 [==============================] - 1s 3ms/step - loss: 0.4151 - accuracy: 0.8113\n",
      "Epoch 67/100\n",
      "291/291 [==============================] - 1s 3ms/step - loss: 0.4158 - accuracy: 0.8086\n",
      "Epoch 68/100\n",
      "291/291 [==============================] - 1s 3ms/step - loss: 0.4143 - accuracy: 0.8118\n",
      "Epoch 69/100\n",
      "291/291 [==============================] - 1s 3ms/step - loss: 0.4151 - accuracy: 0.8122\n",
      "Epoch 70/100\n",
      "291/291 [==============================] - 1s 3ms/step - loss: 0.4149 - accuracy: 0.8125\n",
      "Epoch 71/100\n",
      "291/291 [==============================] - 1s 3ms/step - loss: 0.4136 - accuracy: 0.8116\n",
      "Epoch 72/100\n",
      "291/291 [==============================] - 1s 3ms/step - loss: 0.4134 - accuracy: 0.8111\n",
      "Epoch 73/100\n",
      "291/291 [==============================] - 1s 3ms/step - loss: 0.4145 - accuracy: 0.8131\n",
      "Epoch 74/100\n",
      "291/291 [==============================] - 1s 3ms/step - loss: 0.4135 - accuracy: 0.8136\n",
      "Epoch 75/100\n",
      "291/291 [==============================] - 1s 3ms/step - loss: 0.4124 - accuracy: 0.8124\n",
      "Epoch 76/100\n",
      "291/291 [==============================] - 1s 3ms/step - loss: 0.4121 - accuracy: 0.8108\n",
      "Epoch 77/100\n",
      "291/291 [==============================] - 1s 3ms/step - loss: 0.4125 - accuracy: 0.8128\n",
      "Epoch 78/100\n",
      "291/291 [==============================] - 1s 3ms/step - loss: 0.4116 - accuracy: 0.8141\n",
      "Epoch 79/100\n",
      "291/291 [==============================] - 1s 3ms/step - loss: 0.4116 - accuracy: 0.8147\n",
      "Epoch 80/100\n",
      "291/291 [==============================] - 1s 3ms/step - loss: 0.4118 - accuracy: 0.8120\n",
      "Epoch 81/100\n",
      "291/291 [==============================] - 1s 3ms/step - loss: 0.4110 - accuracy: 0.8128\n",
      "Epoch 82/100\n",
      "291/291 [==============================] - 1s 3ms/step - loss: 0.4105 - accuracy: 0.8135\n",
      "Epoch 83/100\n",
      "291/291 [==============================] - 1s 3ms/step - loss: 0.4098 - accuracy: 0.8121\n",
      "Epoch 84/100\n",
      "291/291 [==============================] - 1s 3ms/step - loss: 0.4096 - accuracy: 0.8146\n",
      "Epoch 85/100\n",
      "291/291 [==============================] - 1s 3ms/step - loss: 0.4103 - accuracy: 0.8132\n",
      "Epoch 86/100\n",
      "291/291 [==============================] - 1s 3ms/step - loss: 0.4102 - accuracy: 0.8105\n",
      "Epoch 87/100\n",
      "291/291 [==============================] - 1s 3ms/step - loss: 0.4087 - accuracy: 0.8144\n",
      "Epoch 88/100\n",
      "291/291 [==============================] - 1s 3ms/step - loss: 0.4089 - accuracy: 0.8158\n",
      "Epoch 89/100\n",
      "291/291 [==============================] - 1s 3ms/step - loss: 0.4090 - accuracy: 0.8134\n",
      "Epoch 90/100\n",
      "291/291 [==============================] - 1s 3ms/step - loss: 0.4093 - accuracy: 0.8139\n",
      "Epoch 91/100\n",
      "291/291 [==============================] - 1s 3ms/step - loss: 0.4086 - accuracy: 0.8149\n",
      "Epoch 92/100\n",
      "291/291 [==============================] - 1s 3ms/step - loss: 0.4084 - accuracy: 0.8162\n",
      "Epoch 93/100\n",
      "291/291 [==============================] - 1s 3ms/step - loss: 0.4066 - accuracy: 0.8176\n",
      "Epoch 94/100\n",
      "291/291 [==============================] - 1s 3ms/step - loss: 0.4073 - accuracy: 0.8150\n",
      "Epoch 95/100\n",
      "291/291 [==============================] - 1s 3ms/step - loss: 0.4075 - accuracy: 0.8163\n",
      "Epoch 96/100\n",
      "291/291 [==============================] - 1s 3ms/step - loss: 0.4069 - accuracy: 0.8165\n",
      "Epoch 97/100\n",
      "291/291 [==============================] - 1s 3ms/step - loss: 0.4067 - accuracy: 0.8141\n",
      "Epoch 98/100\n",
      "291/291 [==============================] - 1s 3ms/step - loss: 0.4070 - accuracy: 0.8149\n",
      "Epoch 99/100\n",
      "291/291 [==============================] - 1s 3ms/step - loss: 0.4069 - accuracy: 0.8158\n",
      "Epoch 100/100\n",
      "291/291 [==============================] - 1s 3ms/step - loss: 0.4070 - accuracy: 0.8139\n"
     ]
    },
    {
     "data": {
      "text/plain": [
       "<keras.callbacks.History at 0x2d1097bad90>"
      ]
     },
     "execution_count": 37,
     "metadata": {},
     "output_type": "execute_result"
    }
   ],
   "source": [
    "model = Sequential()\n",
    "model.add(Dense(units = 40,input_shape=(19,), activation = 'relu')) \n",
    "model.add(Dense(units = 1, activation = 'sigmoid'))\n",
    "\n",
    "model.compile(optimizer = 'adam',\n",
    "             loss = 'binary_crossentropy',\n",
    "             metrics = ['accuracy'])\n",
    "\n",
    "model.fit(xtrain, ytrain, epochs = 100)\n"
   ]
  },
  {
   "cell_type": "code",
   "execution_count": 38,
   "id": "3e54d8a1",
   "metadata": {},
   "outputs": [
    {
     "name": "stdout",
     "output_type": "stream",
     "text": [
      "33/33 [==============================] - 0s 3ms/step - loss: 0.4365 - accuracy: 0.7957\n"
     ]
    },
    {
     "data": {
      "text/plain": [
       "[0.43647995591163635, 0.79574054479599]"
      ]
     },
     "execution_count": 38,
     "metadata": {},
     "output_type": "execute_result"
    }
   ],
   "source": [
    "model.evaluate(xtest, ytest)"
   ]
  },
  {
   "cell_type": "code",
   "execution_count": 39,
   "id": "e143f409",
   "metadata": {},
   "outputs": [
    {
     "name": "stdout",
     "output_type": "stream",
     "text": [
      "33/33 [==============================] - 0s 3ms/step\n"
     ]
    },
    {
     "data": {
      "text/plain": [
       "array([[0.28733855],\n",
       "       [0.6361225 ],\n",
       "       [0.35514247],\n",
       "       [0.2375777 ],\n",
       "       [0.93267477]], dtype=float32)"
      ]
     },
     "execution_count": 39,
     "metadata": {},
     "output_type": "execute_result"
    }
   ],
   "source": [
    "yp = model.predict(xtest)\n",
    "yp[:5]"
   ]
  },
  {
   "cell_type": "code",
   "execution_count": 40,
   "id": "4f9b36ea",
   "metadata": {},
   "outputs": [],
   "source": [
    "ypred = []\n",
    "for i in yp:\n",
    "    if i > 0.5:\n",
    "        ypred.append(1)\n",
    "    else:\n",
    "        ypred.append(0)"
   ]
  },
  {
   "cell_type": "code",
   "execution_count": 41,
   "id": "19425413",
   "metadata": {},
   "outputs": [
    {
     "data": {
      "text/plain": [
       "[0, 1, 0, 0, 1, 1, 0, 1, 0, 1]"
      ]
     },
     "execution_count": 41,
     "metadata": {},
     "output_type": "execute_result"
    }
   ],
   "source": [
    "ypred[:10]"
   ]
  },
  {
   "cell_type": "code",
   "execution_count": 42,
   "id": "9b3620c8",
   "metadata": {},
   "outputs": [
    {
     "data": {
      "text/plain": [
       "1539    0\n",
       "4362    1\n",
       "4785    0\n",
       "4686    0\n",
       "4738    1\n",
       "9246    1\n",
       "6380    0\n",
       "1005    1\n",
       "439     0\n",
       "7715    1\n",
       "Name: Churn, dtype: int64"
      ]
     },
     "execution_count": 42,
     "metadata": {},
     "output_type": "execute_result"
    }
   ],
   "source": [
    "ytest[:10]"
   ]
  },
  {
   "cell_type": "code",
   "execution_count": 43,
   "id": "cbae89dc",
   "metadata": {},
   "outputs": [
    {
     "name": "stdout",
     "output_type": "stream",
     "text": [
      "              precision    recall  f1-score   support\n",
      "\n",
      "           0       0.80      0.79      0.79       517\n",
      "           1       0.79      0.80      0.80       516\n",
      "\n",
      "    accuracy                           0.80      1033\n",
      "   macro avg       0.80      0.80      0.80      1033\n",
      "weighted avg       0.80      0.80      0.80      1033\n",
      "\n"
     ]
    }
   ],
   "source": [
    "print(classification_report(ytest, ypred))"
   ]
  },
  {
   "cell_type": "code",
   "execution_count": 44,
   "id": "3ac3779c",
   "metadata": {},
   "outputs": [
    {
     "data": {
      "text/plain": [
       "Text(95.72222222222221, 0.5, 'Truth')"
      ]
     },
     "execution_count": 44,
     "metadata": {},
     "output_type": "execute_result"
    },
    {
     "data": {
      "image/png": "[encoded data removed]",
      "text/plain": [
       "<Figure size 1000x700 with 2 Axes>"
      ]
     },
     "metadata": {},
     "output_type": "display_data"
    }
   ],
   "source": [
    "cm = confusion_matrix(ytest, ypred)\n",
    "\n",
    "plt.figure(figsize = (10,7))\n",
    "sns.heatmap(cm, annot = True, fmt = 'd')\n",
    "plt.xlabel('Predicted')\n",
    "plt.ylabel('Truth')"
   ]
  }
 ],
 "metadata": {
  "kernelspec": {
   "display_name": "Python 3 (ipykernel)",
   "language": "python",
   "name": "python3"
  },
  "language_info": {
   "codemirror_mode": {
    "name": "ipython",
    "version": 3
   },
   "file_extension": ".py",
   "mimetype": "text/x-python",
   "name": "python",
   "nbconvert_exporter": "python",
   "pygments_lexer": "ipython3",
   "version": "3.9.13"
  }
 },
 "nbformat": 4,
 "nbformat_minor": 5
}
